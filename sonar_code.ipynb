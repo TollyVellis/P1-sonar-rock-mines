{
 "cells": [
  {
   "cell_type": "markdown",
   "id": "052d7675",
   "metadata": {},
   "source": [
    "## P1) Sonar rock project\n",
    "\n",
    "Let's work through this ML exercise to help distinguish rocks from mines.\n",
    "\n",
    "To start, we downloaded the dataset from the UCI website (http://archive.ics.uci.edu/ml/datasets/connectionist+bench+(sonar,+mines+vs.+rocks)#:~:text=Data%20Set%20Information%3A,from%20rocks%20under%20similar%20conditions.) and converted to CSV."
   ]
  },
  {
   "cell_type": "code",
   "execution_count": 80,
   "id": "d79f3aee",
   "metadata": {},
   "outputs": [
    {
     "data": {
      "text/html": [
       "<div>\n",
       "<style scoped>\n",
       "    .dataframe tbody tr th:only-of-type {\n",
       "        vertical-align: middle;\n",
       "    }\n",
       "\n",
       "    .dataframe tbody tr th {\n",
       "        vertical-align: top;\n",
       "    }\n",
       "\n",
       "    .dataframe thead th {\n",
       "        text-align: right;\n",
       "    }\n",
       "</style>\n",
       "<table border=\"1\" class=\"dataframe\">\n",
       "  <thead>\n",
       "    <tr style=\"text-align: right;\">\n",
       "      <th></th>\n",
       "      <th>Angle_1</th>\n",
       "      <th>Angle_2</th>\n",
       "      <th>Angle_3</th>\n",
       "      <th>Angle_4</th>\n",
       "      <th>Angle_5</th>\n",
       "      <th>Angle_6</th>\n",
       "      <th>Angle_7</th>\n",
       "      <th>Angle_8</th>\n",
       "      <th>Angle_9</th>\n",
       "      <th>Angle_10</th>\n",
       "      <th>...</th>\n",
       "      <th>Angle_52</th>\n",
       "      <th>Angle_53</th>\n",
       "      <th>Angle_54</th>\n",
       "      <th>Angle_55</th>\n",
       "      <th>Angle_56</th>\n",
       "      <th>Angle_57</th>\n",
       "      <th>Angle_58</th>\n",
       "      <th>Angle_59</th>\n",
       "      <th>Angle_60</th>\n",
       "      <th>Result</th>\n",
       "    </tr>\n",
       "  </thead>\n",
       "  <tbody>\n",
       "    <tr>\n",
       "      <th>0</th>\n",
       "      <td>0.0453</td>\n",
       "      <td>0.0523</td>\n",
       "      <td>0.0843</td>\n",
       "      <td>0.0689</td>\n",
       "      <td>0.1183</td>\n",
       "      <td>0.2583</td>\n",
       "      <td>0.2156</td>\n",
       "      <td>0.3481</td>\n",
       "      <td>0.3337</td>\n",
       "      <td>0.2872</td>\n",
       "      <td>...</td>\n",
       "      <td>0.0084</td>\n",
       "      <td>0.0089</td>\n",
       "      <td>0.0048</td>\n",
       "      <td>0.0094</td>\n",
       "      <td>0.0191</td>\n",
       "      <td>0.0140</td>\n",
       "      <td>0.0049</td>\n",
       "      <td>0.0052</td>\n",
       "      <td>0.0044</td>\n",
       "      <td>R</td>\n",
       "    </tr>\n",
       "    <tr>\n",
       "      <th>1</th>\n",
       "      <td>0.0262</td>\n",
       "      <td>0.0582</td>\n",
       "      <td>0.1099</td>\n",
       "      <td>0.1083</td>\n",
       "      <td>0.0974</td>\n",
       "      <td>0.2280</td>\n",
       "      <td>0.2431</td>\n",
       "      <td>0.3771</td>\n",
       "      <td>0.5598</td>\n",
       "      <td>0.6194</td>\n",
       "      <td>...</td>\n",
       "      <td>0.0232</td>\n",
       "      <td>0.0166</td>\n",
       "      <td>0.0095</td>\n",
       "      <td>0.0180</td>\n",
       "      <td>0.0244</td>\n",
       "      <td>0.0316</td>\n",
       "      <td>0.0164</td>\n",
       "      <td>0.0095</td>\n",
       "      <td>0.0078</td>\n",
       "      <td>R</td>\n",
       "    </tr>\n",
       "    <tr>\n",
       "      <th>2</th>\n",
       "      <td>0.0100</td>\n",
       "      <td>0.0171</td>\n",
       "      <td>0.0623</td>\n",
       "      <td>0.0205</td>\n",
       "      <td>0.0205</td>\n",
       "      <td>0.0368</td>\n",
       "      <td>0.1098</td>\n",
       "      <td>0.1276</td>\n",
       "      <td>0.0598</td>\n",
       "      <td>0.1264</td>\n",
       "      <td>...</td>\n",
       "      <td>0.0121</td>\n",
       "      <td>0.0036</td>\n",
       "      <td>0.0150</td>\n",
       "      <td>0.0085</td>\n",
       "      <td>0.0073</td>\n",
       "      <td>0.0050</td>\n",
       "      <td>0.0044</td>\n",
       "      <td>0.0040</td>\n",
       "      <td>0.0117</td>\n",
       "      <td>R</td>\n",
       "    </tr>\n",
       "  </tbody>\n",
       "</table>\n",
       "<p>3 rows × 61 columns</p>\n",
       "</div>"
      ],
      "text/plain": [
       "   Angle_1  Angle_2  Angle_3  Angle_4  Angle_5  Angle_6  Angle_7  Angle_8  \\\n",
       "0   0.0453   0.0523   0.0843   0.0689   0.1183   0.2583   0.2156   0.3481   \n",
       "1   0.0262   0.0582   0.1099   0.1083   0.0974   0.2280   0.2431   0.3771   \n",
       "2   0.0100   0.0171   0.0623   0.0205   0.0205   0.0368   0.1098   0.1276   \n",
       "\n",
       "   Angle_9  Angle_10  ...  Angle_52  Angle_53  Angle_54  Angle_55  Angle_56  \\\n",
       "0   0.3337    0.2872  ...    0.0084    0.0089    0.0048    0.0094    0.0191   \n",
       "1   0.5598    0.6194  ...    0.0232    0.0166    0.0095    0.0180    0.0244   \n",
       "2   0.0598    0.1264  ...    0.0121    0.0036    0.0150    0.0085    0.0073   \n",
       "\n",
       "   Angle_57  Angle_58  Angle_59  Angle_60  Result  \n",
       "0    0.0140    0.0049    0.0052    0.0044       R  \n",
       "1    0.0316    0.0164    0.0095    0.0078       R  \n",
       "2    0.0050    0.0044    0.0040    0.0117       R  \n",
       "\n",
       "[3 rows x 61 columns]"
      ]
     },
     "execution_count": 80,
     "metadata": {},
     "output_type": "execute_result"
    }
   ],
   "source": [
    "import pandas as pd\n",
    "import numpy as np\n",
    "\n",
    "columns = ['Angle_'+str(i) for i in range(1,61)]\n",
    "columns.append('Result')\n",
    "\n",
    "df = pd.read_csv('sonar.csv', header = 0, names = columns)\n",
    "\n",
    "df.head(3)"
   ]
  },
  {
   "cell_type": "markdown",
   "id": "596c039b",
   "metadata": {},
   "source": [
    "### Data exploration\n"
   ]
  },
  {
   "cell_type": "markdown",
   "id": "49d108c3",
   "metadata": {},
   "source": [
    "Now that we have our data, let's have a bit of a look at it and see if there are any gaps, and what it looks like in general."
   ]
  },
  {
   "cell_type": "code",
   "execution_count": 84,
   "id": "734d927e",
   "metadata": {},
   "outputs": [
    {
     "data": {
      "text/plain": [
       "Result\n",
       "M    111\n",
       "R     96\n",
       "dtype: int64"
      ]
     },
     "execution_count": 84,
     "metadata": {},
     "output_type": "execute_result"
    }
   ],
   "source": [
    "df.shape #207 rows, 61 columns\n",
    "df.dtypes #All floats, except for final classification which is an object. Might be some value in converting\n",
    "          #to values later.\n",
    "df.info #All non-null, so no need for cleaning\n",
    "df.describe() #Wild variation in means, mins and maxs (within a range of maybr 0 - 1). Might need to do some\n",
    "#               #transformations or standardisation to get the data more cooperative\n",
    "df.groupby('Result').size() #111 mines, 96 rocks, so equal enough that accuracy will probably be a pretty\n",
    "                            #decent metric, among other things\n"
   ]
  },
  {
   "cell_type": "code",
   "execution_count": 3,
   "id": "76c2891e",
   "metadata": {
    "scrolled": true
   },
   "outputs": [
    {
     "data": {
      "image/png": "[encoded data removed]",
      "text/plain": [
       "<Figure size 1080x1080 with 64 Axes>"
      ]
     },
     "metadata": {
      "needs_background": "light"
     },
     "output_type": "display_data"
    }
   ],
   "source": [
    "#Let's check distributions\n",
    "\n",
    "from matplotlib import pyplot as plt\n",
    "\n",
    "df.hist(figsize = (15,15))\n",
    "plt.subplots_adjust(hspace = 0.5)\n",
    "plt.show()\n",
    "\n",
    "#We can see that the distribution of many of these angles is in fact exponential and even bimodal.\n",
    "#There also seems to be very long tails and outliers. There might be some value in standardising or transforming."
   ]
  },
  {
   "cell_type": "code",
   "execution_count": 4,
   "id": "3edda0b1",
   "metadata": {},
   "outputs": [
    {
     "data": {
      "text/plain": [
       "<AxesSubplot:>"
      ]
     },
     "execution_count": 4,
     "metadata": {},
     "output_type": "execute_result"
    },
    {
     "data": {
      "image/png": "[encoded data removed]",
      "text/plain": [
       "<Figure size 432x288 with 2 Axes>"
      ]
     },
     "metadata": {
      "needs_background": "light"
     },
     "output_type": "display_data"
    }
   ],
   "source": [
    "import seaborn as sns\n",
    "\n",
    "sns.heatmap(df.corr())\n",
    "# df.corr()"
   ]
  },
  {
   "cell_type": "markdown",
   "id": "00ea1ca3",
   "metadata": {},
   "source": [
    "By the looks of things, there are some degree of correlation between very close angles (i.e. 1 is highly correlated with 2, 48 is correlated with 49, etc.). We could try thinning some of the variables out a bit later.\n",
    "\n",
    "So some thoughts of what we can play around with later is:\n",
    "- Standardising the data\n",
    "- Transforming it\n",
    "- Thinning out highly correlated variables\n"
   ]
  },
  {
   "cell_type": "code",
   "execution_count": 5,
   "id": "5f562770",
   "metadata": {},
   "outputs": [
    {
     "data": {
      "text/plain": [
       "Result\n",
       "0     96\n",
       "1    111\n",
       "dtype: int64"
      ]
     },
     "execution_count": 5,
     "metadata": {},
     "output_type": "execute_result"
    }
   ],
   "source": [
    "df_conv = df.copy()\n",
    "\n",
    "#Convert M to 1 and R to 0 since that can be helpful for algorithms\n",
    "df_conv['Result'] =  np.where(df_conv['Result'] == 'M',1,0)\n",
    "\n",
    "df_conv.groupby('Result').size() "
   ]
  },
  {
   "cell_type": "markdown",
   "id": "82d9d51b",
   "metadata": {},
   "source": [
    "### Analysis of key features"
   ]
  },
  {
   "cell_type": "code",
   "execution_count": 6,
   "id": "efd3d477",
   "metadata": {},
   "outputs": [
    {
     "data": {
      "image/png": "[encoded data removed]",
      "text/plain": [
       "<Figure size 432x288 with 1 Axes>"
      ]
     },
     "metadata": {
      "needs_background": "light"
     },
     "output_type": "display_data"
    }
   ],
   "source": [
    "from sklearn.ensemble import ExtraTreesClassifier\n",
    "\n",
    "X = df_conv.iloc[:, 0:-1]\n",
    "Y = df_conv['Result']\n",
    "\n",
    "model = ExtraTreesClassifier()\n",
    "model.fit(X,np.ravel(Y))\n",
    "# print(min(model.feature_importances_), max(model.feature_importances_), (model.feature_importances_).mean())\n",
    "\n",
    "plt.hist(model.feature_importances_)\n",
    "plt.title('Distribution of features by feature importance')\n",
    "plt.show()\n",
    "#Honestly the contributions aren't astronomically different, probably best to keep them in there."
   ]
  },
  {
   "cell_type": "markdown",
   "id": "1e4b9806",
   "metadata": {},
   "source": [
    "### Test some algorithms\n",
    "\n",
    "We'll have a few runs of the data, first unchanged, then with some transformations or standardisation."
   ]
  },
  {
   "cell_type": "code",
   "execution_count": 7,
   "id": "90161de7",
   "metadata": {},
   "outputs": [
    {
     "name": "stdout",
     "output_type": "stream",
     "text": [
      "LR: Accuracy of 90.0% (std: 0.0543)\n",
      "LDA: Accuracy of 88.0% (std: 0.0457)\n",
      "SVC: Accuracy of 86.0% (std: 0.0652)\n",
      "Trees: Accuracy of 89.0% (std: 0.0648)\n",
      "KNN: Accuracy of 89.0% (std: 0.0526)\n",
      "Random forest: Accuracy of 89.0% (std: 0.0534)\n",
      "ADA booster: Accuracy of 86.0% (std: 0.0373)\n",
      "Gradient booster: Accuracy of 87.0% (std: 0.0576)\n"
     ]
    }
   ],
   "source": [
    "#Transformations\n",
    "\n",
    "from sklearn.model_selection import KFold, cross_val_score\n",
    "# from sklearn.pipeline import Pipeline\n",
    "# In this instance there's not much use for the Pipeline library\n",
    "\n",
    "#Models\n",
    "from sklearn.neighbors import KNeighborsClassifier\n",
    "from sklearn.linear_model import LogisticRegression #NEEDS standardisation\n",
    "from sklearn.discriminant_analysis import LinearDiscriminantAnalysis\n",
    "from sklearn.svm import SVC\n",
    "from sklearn.tree import DecisionTreeClassifier\n",
    "from sklearn.ensemble import RandomForestClassifier\n",
    "from sklearn.ensemble import AdaBoostClassifier, GradientBoostingClassifier\n",
    "from sklearn.model_selection import train_test_split\n",
    "\n",
    "X = df_conv.iloc[:, 0:-1]\n",
    "Y = df_conv['Result']\n",
    "\n",
    "X_train, X_test, y_train, y_test = train_test_split(X, Y, train_size = 0.8, random_state = 6)\n",
    "\n",
    "#Set up models\n",
    "models = []\n",
    "\n",
    "models.append(('LR', LogisticRegression()))\n",
    "models.append(('LDA', LinearDiscriminantAnalysis()))     \n",
    "models.append(('SVC', SVC()))              \n",
    "models.append(('Trees', DecisionTreeClassifier()))              \n",
    "models.append(('KNN', KNeighborsClassifier()))              \n",
    "models.append(('Random forest', RandomForestClassifier()))\n",
    "models.append(('ADA booster', AdaBoostClassifier()))           \n",
    "models.append(('Gradient booster', GradientBoostingClassifier()))           \n",
    "\n",
    "names = []\n",
    "results = []\n",
    "\n",
    "for name, result in models:\n",
    "    kfold = KFold(n_splits = 10, random_state = 7, shuffle = True)\n",
    "    cv_results = cross_val_score(model, X_train, y_train, cv = kfold, scoring = 'accuracy')\n",
    "    \n",
    "    #Grab these for plotting\n",
    "    names.append(name)\n",
    "    results.append(cv_results)\n",
    "    \n",
    "    print(f'{name}: Accuracy of {round(cv_results.mean(),2)*100}% (std: {round(cv_results.std(),4)})')\n",
    "    "
   ]
  },
  {
   "cell_type": "code",
   "execution_count": 8,
   "id": "2d339df2",
   "metadata": {},
   "outputs": [
    {
     "data": {
      "image/png": "[encoded data removed]",
      "text/plain": [
       "<Figure size 864x432 with 1 Axes>"
      ]
     },
     "metadata": {
      "needs_background": "light"
     },
     "output_type": "display_data"
    }
   ],
   "source": [
    "plt.figure(figsize = (12,6))\n",
    "ax = plt.subplot()\n",
    "\n",
    "plt.boxplot(results)\n",
    "\n",
    "plt.title('Algorithm Comparison')\n",
    "ax.set_xticklabels(names)\n",
    "\n",
    "plt.show()"
   ]
  },
  {
   "cell_type": "markdown",
   "id": "47a1071c",
   "metadata": {},
   "source": [
    "From the results the models are all pretty similar with some minor variation between them. Let's try some standardisation and transformation to see if that has any effect."
   ]
  },
  {
   "cell_type": "code",
   "execution_count": 85,
   "id": "b0abd93f",
   "metadata": {},
   "outputs": [
    {
     "name": "stdout",
     "output_type": "stream",
     "text": [
      "LR: Accuracy of 84.0% (std: 0.0763)\n",
      "LDA: Accuracy of 87.0% (std: 0.0699)\n",
      "SVC: Accuracy of 86.0% (std: 0.0404)\n",
      "Trees: Accuracy of 83.0% (std: 0.0687)\n",
      "KNN: Accuracy of 87.0% (std: 0.0647)\n",
      "Random forest: Accuracy of 86.0% (std: 0.0683)\n",
      "ADA booster: Accuracy of 86.0% (std: 0.0482)\n",
      "Gradient booster: Accuracy of 86.0% (std: 0.0834)\n"
     ]
    }
   ],
   "source": [
    "from sklearn.preprocessing import StandardScaler, Normalizer\n",
    "\n",
    "#This creates a scaler object based off the data in X.\n",
    "#VERY IMPORTANT: best practise is to scale the data off of the train data\n",
    "#(like we are doing here) and use that to transform the test data later\n",
    "\n",
    "X_train, X_test, y_train, y_test = train_test_split(X, Y, train_size = 0.8, random_state = 6)\n",
    "\n",
    "scaler = StandardScaler().fit(X_train)\n",
    "# scaler = Normalizer().fit(X_train)\n",
    "rescaled_x = scaler.transform(X_train)\n",
    "\n",
    "names = []\n",
    "results = []\n",
    "\n",
    "#Set up models\n",
    "models = []\n",
    "\n",
    "models.append(('LR', LogisticRegression()))\n",
    "models.append(('LDA', LinearDiscriminantAnalysis()))     \n",
    "models.append(('SVC', SVC()))              \n",
    "models.append(('Trees', DecisionTreeClassifier()))              \n",
    "models.append(('KNN', KNeighborsClassifier()))              \n",
    "models.append(('Random forest', RandomForestClassifier()))\n",
    "models.append(('ADA booster', AdaBoostClassifier()))           \n",
    "models.append(('Gradient booster', GradientBoostingClassifier()))   \n",
    "\n",
    "for name, result in models:\n",
    "    kfold = KFold(n_splits = 10, random_state = 7, shuffle = True)\n",
    "    cv_results = cross_val_score(model, rescaled_x, y_train, cv = kfold, scoring = 'accuracy')\n",
    "    \n",
    "    #Grab these for plotting\n",
    "    names.append(name)\n",
    "    results.append(cv_results)\n",
    "    \n",
    "    print(f'{name}: Accuracy of {round(cv_results.mean(),2)*100}% (std: {round(cv_results.std(),4)})')"
   ]
  },
  {
   "cell_type": "code",
   "execution_count": 86,
   "id": "6514bf1f",
   "metadata": {},
   "outputs": [
    {
     "data": {
      "image/png": "[encoded data removed]",
      "text/plain": [
       "<Figure size 864x432 with 1 Axes>"
      ]
     },
     "metadata": {
      "needs_background": "light"
     },
     "output_type": "display_data"
    }
   ],
   "source": [
    "plt.figure(figsize = (12,6))\n",
    "ax = plt.subplot()\n",
    "\n",
    "plt.boxplot(results)\n",
    "\n",
    "plt.title('Algorithm Comparison')\n",
    "ax.set_xticklabels(names)\n",
    "\n",
    "plt.show()"
   ]
  },
  {
   "cell_type": "markdown",
   "id": "b4e8d26f",
   "metadata": {},
   "source": [
    "Standardising and normalising didn't seem to make much of a difference to be honest. Let's try transforming it. Most of the graphs were right skewed."
   ]
  },
  {
   "cell_type": "code",
   "execution_count": 11,
   "id": "a7bd6fbe",
   "metadata": {},
   "outputs": [
    {
     "data": {
      "text/plain": [
       "0.9690195277770972"
      ]
     },
     "execution_count": 11,
     "metadata": {},
     "output_type": "execute_result"
    }
   ],
   "source": [
    "X.skew().mean()"
   ]
  },
  {
   "cell_type": "markdown",
   "id": "0bd392a6",
   "metadata": {},
   "source": [
    "...as seen by the above. Using the sqrt is a good way to reduce this skewness."
   ]
  },
  {
   "cell_type": "code",
   "execution_count": 87,
   "id": "e54e4b19",
   "metadata": {},
   "outputs": [
    {
     "data": {
      "text/plain": [
       "0.1171409965214243"
      ]
     },
     "execution_count": 87,
     "metadata": {},
     "output_type": "execute_result"
    }
   ],
   "source": [
    "logged_X = np.sqrt(X)\n",
    "\n",
    "logged_X.skew().mean()\n",
    "\n",
    "#This worked. Now, let's try again."
   ]
  },
  {
   "cell_type": "code",
   "execution_count": 88,
   "id": "913e1a57",
   "metadata": {},
   "outputs": [
    {
     "name": "stdout",
     "output_type": "stream",
     "text": [
      "LR: Accuracy of 85.0% (std: 0.0593)\n",
      "LDA: Accuracy of 84.0% (std: 0.0776)\n",
      "SVC: Accuracy of 86.0% (std: 0.0594)\n",
      "Trees: Accuracy of 84.0% (std: 0.065)\n",
      "KNN: Accuracy of 85.0% (std: 0.055)\n",
      "Random forest: Accuracy of 88.0% (std: 0.0593)\n",
      "ADA booster: Accuracy of 87.0% (std: 0.0821)\n",
      "Gradient booster: Accuracy of 84.0% (std: 0.0881)\n"
     ]
    }
   ],
   "source": [
    "X_train, X_test, y_train, y_test = train_test_split(logged_X, Y, train_size = 0.8, random_state = 6)\n",
    "\n",
    "names = []\n",
    "results = []\n",
    "\n",
    "for name, result in models:\n",
    "    kfold = KFold(n_splits = 10, random_state = 7, shuffle = True)\n",
    "    cv_results = cross_val_score(model, X_train, y_train, cv = kfold, scoring = 'accuracy')\n",
    "    \n",
    "    #Grab these for plotting\n",
    "    names.append(name)\n",
    "    results.append(cv_results)\n",
    "    \n",
    "    print(f'{name}: Accuracy of {round(cv_results.mean(),2)*100}% (std: {round(cv_results.std(),4)})')"
   ]
  },
  {
   "cell_type": "code",
   "execution_count": 89,
   "id": "7c86d37a",
   "metadata": {},
   "outputs": [
    {
     "data": {
      "image/png": "[encoded data removed]",
      "text/plain": [
       "<Figure size 864x432 with 1 Axes>"
      ]
     },
     "metadata": {
      "needs_background": "light"
     },
     "output_type": "display_data"
    }
   ],
   "source": [
    "plt.figure(figsize = (12,6))\n",
    "ax = plt.subplot()\n",
    "\n",
    "plt.boxplot(results)\n",
    "\n",
    "plt.title('Algorithm Comparison')\n",
    "ax.set_xticklabels(names)\n",
    "\n",
    "plt.show()"
   ]
  },
  {
   "cell_type": "markdown",
   "id": "a0e98ef9",
   "metadata": {},
   "source": [
    "All things being the same, it looks like SVC with sqrted data technically got best results.\n",
    "\n",
    "Let's concentrate to see whether tuning hyper-parameters accomplishes anything for it.\n",
    "\n",
    "### Tuning SVC"
   ]
  },
  {
   "cell_type": "code",
   "execution_count": 15,
   "id": "0d8c3d55",
   "metadata": {},
   "outputs": [
    {
     "name": "stdout",
     "output_type": "stream",
     "text": [
      "Our best parameters are: {'C': 1, 'gamma': 2.5, 'kernel': 'rbf'}\n",
      "Our best estimation is: SVC(C=1, gamma=2.5)\n"
     ]
    }
   ],
   "source": [
    "from sklearn.model_selection import GridSearchCV\n",
    "\n",
    "logged_X = np.sqrt(X)\n",
    "\n",
    "X_train, X_test, y_train, y_test = train_test_split(logged_X, Y, train_size = 0.8, random_state = 6)\n",
    "\n",
    "param_grid = {'C': [1,5,10],\n",
    "              'gamma': [1,2,2.5],\n",
    "              'kernel': ['linear', 'poly', 'rbf', 'sigmoid']}\n",
    "\n",
    "grid = GridSearchCV(SVC(), param_grid, refit = True)\n",
    "\n",
    "grid.fit(X_train, y_train)\n",
    "\n",
    "print(\"Our best parameters are:\", grid.best_params_)\n",
    "print(\"Our best estimation is:\",grid.best_estimator_)\n",
    "\n",
    "#First run, {'C': 10, 'gamma': 1, 'kernel': 'rbf'}\n",
    "#Second run, {'C': 5, 'gamma': 2, 'kernel': 'rbf'}\n",
    "#Third run, {'C': 1, 'gamma': 2.5, 'kernel': 'rbf'}"
   ]
  },
  {
   "cell_type": "code",
   "execution_count": 16,
   "id": "fc05355e",
   "metadata": {},
   "outputs": [
    {
     "name": "stdout",
     "output_type": "stream",
     "text": [
      "SVC: Accuracy of 91.0% (std: 0.0418)\n"
     ]
    },
    {
     "data": {
      "image/png": "[encoded data removed]",
      "text/plain": [
       "<Figure size 288x288 with 1 Axes>"
      ]
     },
     "metadata": {
      "needs_background": "light"
     },
     "output_type": "display_data"
    }
   ],
   "source": [
    "kfold = KFold(n_splits = 10, random_state = 7, shuffle = True)\n",
    "cv_results = cross_val_score(SVC(C = 1, gamma = 2.5, kernel = 'rbf'), X_train, y_train, cv = kfold, scoring = 'accuracy')\n",
    "\n",
    "print(f'SVC: Accuracy of {round(cv_results.mean(),2)*100}% (std: {round(cv_results.std(),4)})')\n",
    "\n",
    "plt.figure(figsize = (4,4))\n",
    "ax = plt.subplot()\n",
    "\n",
    "plt.boxplot(cv_results)\n",
    "\n",
    "plt.title('Spread of SVC accuracy')\n",
    "plt.xlabel('SVC algorithm')\n",
    "# ax.set_xticklabels('SVC algorithm')\n",
    "\n",
    "plt.show()"
   ]
  },
  {
   "cell_type": "markdown",
   "id": "4625b731",
   "metadata": {},
   "source": [
    "Now we can finalise our model by applying it to the test set."
   ]
  },
  {
   "cell_type": "code",
   "execution_count": 17,
   "id": "07a82a25",
   "metadata": {},
   "outputs": [
    {
     "name": "stdout",
     "output_type": "stream",
     "text": [
      "0.8809523809523809 0.875 0.9130434782608695 0.8936170212765957\n",
      "              precision    recall  f1-score   support\n",
      "\n",
      "           0       0.89      0.84      0.86        19\n",
      "           1       0.88      0.91      0.89        23\n",
      "\n",
      "    accuracy                           0.88        42\n",
      "   macro avg       0.88      0.88      0.88        42\n",
      "weighted avg       0.88      0.88      0.88        42\n",
      "\n",
      "[[16  2]\n",
      " [ 3 21]]\n"
     ]
    }
   ],
   "source": [
    "from sklearn.metrics import (accuracy_score, recall_score, precision_score,\n",
    "f1_score, classification_report, confusion_matrix)\n",
    "\n",
    "the_machine = SVC(C = 1, gamma = 2.5, kernel = 'rbf')\n",
    "the_machine.fit(X_train, y_train)\n",
    "prediction = the_machine.predict(X_test)\n",
    "\n",
    "print(accuracy_score(prediction, y_test),\n",
    "recall_score(prediction, y_test),\n",
    "precision_score(prediction, y_test),\n",
    "f1_score(prediction, y_test))\n",
    "\n",
    "print(classification_report(y_test, prediction))\n",
    "\n",
    "print(confusion_matrix(prediction, y_test))"
   ]
  },
  {
   "cell_type": "markdown",
   "id": "f865f6d9",
   "metadata": {},
   "source": [
    "Scores of about 88-90%...nice! "
   ]
  },
  {
   "cell_type": "markdown",
   "id": "de186a3a",
   "metadata": {},
   "source": [
    "### Aftermath: Some addition feature tweaking just for interest's sake\n",
    "\n",
    "* Let's try thinning out the features in the dataset since close ones were highly correlated.\n",
    "* Then let's try transforming the data with a little more mathematical rigour."
   ]
  },
  {
   "cell_type": "code",
   "execution_count": 41,
   "id": "7dae3656",
   "metadata": {},
   "outputs": [
    {
     "name": "stdout",
     "output_type": "stream",
     "text": [
      "SVC: Accuracy of 88.0% (std: 0.0897)\n"
     ]
    },
    {
     "data": {
      "image/png": "[encoded data removed]",
      "text/plain": [
       "<Figure size 288x288 with 1 Axes>"
      ]
     },
     "metadata": {
      "needs_background": "light"
     },
     "output_type": "display_data"
    }
   ],
   "source": [
    "#Let's try thinning the features\n",
    "\n",
    "neo_X = X.copy()\n",
    "\n",
    "all_col = X.columns\n",
    "count = 3\n",
    "\n",
    "for i in range(len(X.columns)):\n",
    "    if count % 2 == 0:\n",
    "        neo_X = neo_X.drop([all_col[i]], axis = 1)\n",
    "    count += 1\n",
    "\n",
    "logged_neo_X = np.sqrt(neo_X)\n",
    "\n",
    "X_train, X_test, y_train, y_test = train_test_split(logged_neo_X, Y, train_size = 0.8, random_state = 6)\n",
    "\n",
    "#From testing, best results are 'C': 22, 'gamma': 1, 'kernel': 'rbf'\n",
    "\n",
    "# param_grid = {'C': [20,21,22,23,24],\n",
    "#               'gamma': [0.6,0.7,0.8,0.9, 1, 1.1,1.2,1.3],\n",
    "#               'kernel': ['linear', 'poly', 'rbf', 'sigmoid']}\n",
    "\n",
    "# grid = GridSearchCV(SVC(), param_grid, refit = True)\n",
    "\n",
    "# grid.fit(X_train, y_train)\n",
    "\n",
    "# print(\"Our best parameters are:\", grid.best_params_)\n",
    "# print(\"Our best estimation is:\",grid.best_estimator_)\n",
    "\n",
    "kfold = KFold(n_splits = 10, random_state = 7, shuffle = True)\n",
    "cv_results = cross_val_score(SVC(C = 22, gamma = 1, kernel = 'rbf'), X_train, y_train, cv = kfold, scoring = 'accuracy')\n",
    "\n",
    "print(f'SVC: Accuracy of {round(cv_results.mean(),2)*100}% (std: {round(cv_results.std(),4)})')\n",
    "\n",
    "plt.figure(figsize = (4,4))\n",
    "ax = plt.subplot()\n",
    "\n",
    "plt.boxplot(cv_results)\n",
    "\n",
    "plt.title('Spread of SVC accuracy')\n",
    "plt.xlabel('SVC algorithm')\n",
    "plt.show()"
   ]
  },
  {
   "cell_type": "code",
   "execution_count": 79,
   "id": "0a72436f",
   "metadata": {},
   "outputs": [
    {
     "name": "stdout",
     "output_type": "stream",
     "text": [
      "SVC: Accuracy of 86.0% (std: 0.0533)\n"
     ]
    },
    {
     "data": {
      "image/png": "[encoded data removed]",
      "text/plain": [
       "<Figure size 288x288 with 1 Axes>"
      ]
     },
     "metadata": {
      "needs_background": "light"
     },
     "output_type": "display_data"
    }
   ],
   "source": [
    "#Let's try transfomring based on skewedness\n",
    "\n",
    "skewedness = X.skew()\n",
    "\n",
    "fino_X = X.copy()\n",
    "all_col = X.columns\n",
    "\n",
    "for i in range(len(X.columns)):\n",
    "    if skewedness[i] > 0.5:\n",
    "        fino_X[all_col[i]] = np.sqrt(fino_X[all_col[i]])\n",
    "    elif skewedness[i] < -0.5:\n",
    "        fino_X[all_col[i]] = fino_X[all_col[i]]**2\n",
    "        \n",
    "X_train, X_test, y_train, y_test = train_test_split(fino_X, Y, train_size = 0.8, random_state = 6)\n",
    "\n",
    "kfold = KFold(n_splits = 10, random_state = 7, shuffle = True)\n",
    "cv_results = cross_val_score(SVC(C = 1, gamma = 2.5, kernel = 'rbf'), X_train, y_train, cv = kfold, scoring = 'accuracy')\n",
    "\n",
    "print(f'SVC: Accuracy of {round(cv_results.mean(),2)*100}% (std: {round(cv_results.std(),4)})')\n",
    "\n",
    "plt.figure(figsize = (4,4))\n",
    "ax = plt.subplot()\n",
    "\n",
    "plt.boxplot(cv_results)\n",
    "\n",
    "plt.title('Spread of SVC accuracy')\n",
    "plt.xlabel('SVC algorithm')\n",
    "plt.show()"
   ]
  }
 ],
 "metadata": {
  "kernelspec": {
   "display_name": "Python 3 (ipykernel)",
   "language": "python",
   "name": "python3"
  },
  "language_info": {
   "codemirror_mode": {
    "name": "ipython",
    "version": 3
   },
   "file_extension": ".py",
   "mimetype": "text/x-python",
   "name": "python",
   "nbconvert_exporter": "python",
   "pygments_lexer": "ipython3",
   "version": "3.9.6"
  }
 },
 "nbformat": 4,
 "nbformat_minor": 5
}
